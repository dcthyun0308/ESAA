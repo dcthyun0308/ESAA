{
  "nbformat": 4,
  "nbformat_minor": 0,
  "metadata": {
    "colab": {
      "provenance": [],
      "authorship_tag": "ABX9TyPLPwoXir9ayoPZdhveJNFQ",
      "include_colab_link": true
    },
    "kernelspec": {
      "name": "python3",
      "display_name": "Python 3"
    },
    "language_info": {
      "name": "python"
    }
  },
  "cells": [
    {
      "cell_type": "markdown",
      "metadata": {
        "id": "view-in-github",
        "colab_type": "text"
      },
      "source": [
        "<a href=\"https://colab.research.google.com/github/dcthyun0308/ESAA/blob/main/YB_miniproject1_pr.ipynb\" target=\"_parent\"><img src=\"https://colab.research.google.com/assets/colab-badge.svg\" alt=\"Open In Colab\"/></a>"
      ]
    },
    {
      "cell_type": "code",
      "execution_count": 1,
      "metadata": {
        "colab": {
          "base_uri": "https://localhost:8080/"
        },
        "id": "f3gmrJsCF9kV",
        "outputId": "07eeeb38-319b-4db6-c94a-8816435903c8"
      },
      "outputs": [
        {
          "output_type": "stream",
          "name": "stdout",
          "text": [
            "W: Skipping acquire of configured file 'main/source/Sources' as repository 'https://r2u.stat.illinois.edu/ubuntu jammy InRelease' does not seem to provide it (sources.list entry misspelt?)\n",
            "Selecting previously unselected package fonts-nanum.\n",
            "(Reading database ... 126441 files and directories currently installed.)\n",
            "Preparing to unpack .../fonts-nanum_20200506-1_all.deb ...\n",
            "Unpacking fonts-nanum (20200506-1) ...\n",
            "Setting up fonts-nanum (20200506-1) ...\n",
            "Processing triggers for fontconfig (2.13.1-4.2ubuntu5) ...\n"
          ]
        }
      ],
      "source": [
        "!apt-get -qq update\n",
        "!apt-get -qq -y install fonts-nanum"
      ]
    },
    {
      "cell_type": "code",
      "source": [
        "import pandas as pd\n",
        "import numpy as np\n",
        "import matplotlib as mpl\n",
        "import matplotlib.pyplot as plt\n",
        "from matplotlib import font_manager as fm\n",
        "import seaborn as sns"
      ],
      "metadata": {
        "id": "9Gl6krTlGliG"
      },
      "execution_count": 2,
      "outputs": []
    },
    {
      "cell_type": "code",
      "source": [
        "FONT_PATH = \"/usr/share/fonts/truetype/nanum/NanumGothic.ttf\"\n",
        "fm.fontManager.addfont(FONT_PATH)\n",
        "nanum = fm.FontProperties(fname=FONT_PATH).get_name()\n",
        "mpl.rcParams[\"font.family\"] = nanum\n",
        "mpl.rcParams[\"font.sans-serif\"] = [nanum, \"DejaVu Sans\"]\n",
        "mpl.rcParams[\"axes.unicode_minus\"] = False\n",
        "\n",
        "sns.set_theme(rc={\"font.family\": nanum, \"axes.unicode_minus\": False})"
      ],
      "metadata": {
        "id": "jmdNg_b8GoAh"
      },
      "execution_count": 3,
      "outputs": []
    },
    {
      "cell_type": "code",
      "source": [
        "from google.colab import drive\n",
        "drive.mount('/content/drive')\n",
        "\n",
        "df = pd.read_csv('/content/drive/MyDrive/Colab Notebooks/movies_train.csv')"
      ],
      "metadata": {
        "colab": {
          "base_uri": "https://localhost:8080/"
        },
        "id": "6speJkHNGpjd",
        "outputId": "cc8465ca-65cd-4f3b-cc3e-0b31559191d1"
      },
      "execution_count": 4,
      "outputs": [
        {
          "output_type": "stream",
          "name": "stdout",
          "text": [
            "Mounted at /content/drive\n"
          ]
        }
      ]
    },
    {
      "cell_type": "code",
      "source": [
        "df.head()"
      ],
      "metadata": {
        "colab": {
          "base_uri": "https://localhost:8080/",
          "height": 206
        },
        "id": "W9orf9w0G1Lv",
        "outputId": "80a87244-cffd-4b4d-d0ca-e7b34ddd4a6e"
      },
      "execution_count": 5,
      "outputs": [
        {
          "output_type": "execute_result",
          "data": {
            "text/plain": [
              "       title   distributor genre release_time  time screening_rat director  \\\n",
              "0     개들의 전쟁      롯데엔터테인먼트    액션   2012-11-22    96      청소년 관람불가      조병옥   \n",
              "1       내부자들        (주)쇼박스   느와르   2015-11-19   130      청소년 관람불가      우민호   \n",
              "2  은밀하게 위대하게        (주)쇼박스    액션   2013-06-05   123       15세 관람가      장철수   \n",
              "3   나는 공무원이다        (주)NEW   코미디   2012-07-12   101        전체 관람가      구자홍   \n",
              "4       불량남녀  쇼박스(주)미디어플렉스   코미디   2010-11-04   108       15세 관람가      신근호   \n",
              "\n",
              "   dir_prev_bfnum  dir_prev_num  num_staff  num_actor  box_off_num  \n",
              "0             NaN             0         91          2        23398  \n",
              "1      1161602.50             2        387          3      7072501  \n",
              "2       220775.25             4        343          4      6959083  \n",
              "3        23894.00             2         20          6       217866  \n",
              "4            1.00             1        251          2       483387  "
            ],
            "text/html": [
              "\n",
              "  <div id=\"df-187ac22c-cc44-4bb1-b067-3dab5e0b51c1\" class=\"colab-df-container\">\n",
              "    <div>\n",
              "<style scoped>\n",
              "    .dataframe tbody tr th:only-of-type {\n",
              "        vertical-align: middle;\n",
              "    }\n",
              "\n",
              "    .dataframe tbody tr th {\n",
              "        vertical-align: top;\n",
              "    }\n",
              "\n",
              "    .dataframe thead th {\n",
              "        text-align: right;\n",
              "    }\n",
              "</style>\n",
              "<table border=\"1\" class=\"dataframe\">\n",
              "  <thead>\n",
              "    <tr style=\"text-align: right;\">\n",
              "      <th></th>\n",
              "      <th>title</th>\n",
              "      <th>distributor</th>\n",
              "      <th>genre</th>\n",
              "      <th>release_time</th>\n",
              "      <th>time</th>\n",
              "      <th>screening_rat</th>\n",
              "      <th>director</th>\n",
              "      <th>dir_prev_bfnum</th>\n",
              "      <th>dir_prev_num</th>\n",
              "      <th>num_staff</th>\n",
              "      <th>num_actor</th>\n",
              "      <th>box_off_num</th>\n",
              "    </tr>\n",
              "  </thead>\n",
              "  <tbody>\n",
              "    <tr>\n",
              "      <th>0</th>\n",
              "      <td>개들의 전쟁</td>\n",
              "      <td>롯데엔터테인먼트</td>\n",
              "      <td>액션</td>\n",
              "      <td>2012-11-22</td>\n",
              "      <td>96</td>\n",
              "      <td>청소년 관람불가</td>\n",
              "      <td>조병옥</td>\n",
              "      <td>NaN</td>\n",
              "      <td>0</td>\n",
              "      <td>91</td>\n",
              "      <td>2</td>\n",
              "      <td>23398</td>\n",
              "    </tr>\n",
              "    <tr>\n",
              "      <th>1</th>\n",
              "      <td>내부자들</td>\n",
              "      <td>(주)쇼박스</td>\n",
              "      <td>느와르</td>\n",
              "      <td>2015-11-19</td>\n",
              "      <td>130</td>\n",
              "      <td>청소년 관람불가</td>\n",
              "      <td>우민호</td>\n",
              "      <td>1161602.50</td>\n",
              "      <td>2</td>\n",
              "      <td>387</td>\n",
              "      <td>3</td>\n",
              "      <td>7072501</td>\n",
              "    </tr>\n",
              "    <tr>\n",
              "      <th>2</th>\n",
              "      <td>은밀하게 위대하게</td>\n",
              "      <td>(주)쇼박스</td>\n",
              "      <td>액션</td>\n",
              "      <td>2013-06-05</td>\n",
              "      <td>123</td>\n",
              "      <td>15세 관람가</td>\n",
              "      <td>장철수</td>\n",
              "      <td>220775.25</td>\n",
              "      <td>4</td>\n",
              "      <td>343</td>\n",
              "      <td>4</td>\n",
              "      <td>6959083</td>\n",
              "    </tr>\n",
              "    <tr>\n",
              "      <th>3</th>\n",
              "      <td>나는 공무원이다</td>\n",
              "      <td>(주)NEW</td>\n",
              "      <td>코미디</td>\n",
              "      <td>2012-07-12</td>\n",
              "      <td>101</td>\n",
              "      <td>전체 관람가</td>\n",
              "      <td>구자홍</td>\n",
              "      <td>23894.00</td>\n",
              "      <td>2</td>\n",
              "      <td>20</td>\n",
              "      <td>6</td>\n",
              "      <td>217866</td>\n",
              "    </tr>\n",
              "    <tr>\n",
              "      <th>4</th>\n",
              "      <td>불량남녀</td>\n",
              "      <td>쇼박스(주)미디어플렉스</td>\n",
              "      <td>코미디</td>\n",
              "      <td>2010-11-04</td>\n",
              "      <td>108</td>\n",
              "      <td>15세 관람가</td>\n",
              "      <td>신근호</td>\n",
              "      <td>1.00</td>\n",
              "      <td>1</td>\n",
              "      <td>251</td>\n",
              "      <td>2</td>\n",
              "      <td>483387</td>\n",
              "    </tr>\n",
              "  </tbody>\n",
              "</table>\n",
              "</div>\n",
              "    <div class=\"colab-df-buttons\">\n",
              "\n",
              "  <div class=\"colab-df-container\">\n",
              "    <button class=\"colab-df-convert\" onclick=\"convertToInteractive('df-187ac22c-cc44-4bb1-b067-3dab5e0b51c1')\"\n",
              "            title=\"Convert this dataframe to an interactive table.\"\n",
              "            style=\"display:none;\">\n",
              "\n",
              "  <svg xmlns=\"http://www.w3.org/2000/svg\" height=\"24px\" viewBox=\"0 -960 960 960\">\n",
              "    <path d=\"M120-120v-720h720v720H120Zm60-500h600v-160H180v160Zm220 220h160v-160H400v160Zm0 220h160v-160H400v160ZM180-400h160v-160H180v160Zm440 0h160v-160H620v160ZM180-180h160v-160H180v160Zm440 0h160v-160H620v160Z\"/>\n",
              "  </svg>\n",
              "    </button>\n",
              "\n",
              "  <style>\n",
              "    .colab-df-container {\n",
              "      display:flex;\n",
              "      gap: 12px;\n",
              "    }\n",
              "\n",
              "    .colab-df-convert {\n",
              "      background-color: #E8F0FE;\n",
              "      border: none;\n",
              "      border-radius: 50%;\n",
              "      cursor: pointer;\n",
              "      display: none;\n",
              "      fill: #1967D2;\n",
              "      height: 32px;\n",
              "      padding: 0 0 0 0;\n",
              "      width: 32px;\n",
              "    }\n",
              "\n",
              "    .colab-df-convert:hover {\n",
              "      background-color: #E2EBFA;\n",
              "      box-shadow: 0px 1px 2px rgba(60, 64, 67, 0.3), 0px 1px 3px 1px rgba(60, 64, 67, 0.15);\n",
              "      fill: #174EA6;\n",
              "    }\n",
              "\n",
              "    .colab-df-buttons div {\n",
              "      margin-bottom: 4px;\n",
              "    }\n",
              "\n",
              "    [theme=dark] .colab-df-convert {\n",
              "      background-color: #3B4455;\n",
              "      fill: #D2E3FC;\n",
              "    }\n",
              "\n",
              "    [theme=dark] .colab-df-convert:hover {\n",
              "      background-color: #434B5C;\n",
              "      box-shadow: 0px 1px 3px 1px rgba(0, 0, 0, 0.15);\n",
              "      filter: drop-shadow(0px 1px 2px rgba(0, 0, 0, 0.3));\n",
              "      fill: #FFFFFF;\n",
              "    }\n",
              "  </style>\n",
              "\n",
              "    <script>\n",
              "      const buttonEl =\n",
              "        document.querySelector('#df-187ac22c-cc44-4bb1-b067-3dab5e0b51c1 button.colab-df-convert');\n",
              "      buttonEl.style.display =\n",
              "        google.colab.kernel.accessAllowed ? 'block' : 'none';\n",
              "\n",
              "      async function convertToInteractive(key) {\n",
              "        const element = document.querySelector('#df-187ac22c-cc44-4bb1-b067-3dab5e0b51c1');\n",
              "        const dataTable =\n",
              "          await google.colab.kernel.invokeFunction('convertToInteractive',\n",
              "                                                    [key], {});\n",
              "        if (!dataTable) return;\n",
              "\n",
              "        const docLinkHtml = 'Like what you see? Visit the ' +\n",
              "          '<a target=\"_blank\" href=https://colab.research.google.com/notebooks/data_table.ipynb>data table notebook</a>'\n",
              "          + ' to learn more about interactive tables.';\n",
              "        element.innerHTML = '';\n",
              "        dataTable['output_type'] = 'display_data';\n",
              "        await google.colab.output.renderOutput(dataTable, element);\n",
              "        const docLink = document.createElement('div');\n",
              "        docLink.innerHTML = docLinkHtml;\n",
              "        element.appendChild(docLink);\n",
              "      }\n",
              "    </script>\n",
              "  </div>\n",
              "\n",
              "\n",
              "    <div id=\"df-8c56ace4-14bb-4ad1-85d0-6c63ec736586\">\n",
              "      <button class=\"colab-df-quickchart\" onclick=\"quickchart('df-8c56ace4-14bb-4ad1-85d0-6c63ec736586')\"\n",
              "                title=\"Suggest charts\"\n",
              "                style=\"display:none;\">\n",
              "\n",
              "<svg xmlns=\"http://www.w3.org/2000/svg\" height=\"24px\"viewBox=\"0 0 24 24\"\n",
              "     width=\"24px\">\n",
              "    <g>\n",
              "        <path d=\"M19 3H5c-1.1 0-2 .9-2 2v14c0 1.1.9 2 2 2h14c1.1 0 2-.9 2-2V5c0-1.1-.9-2-2-2zM9 17H7v-7h2v7zm4 0h-2V7h2v10zm4 0h-2v-4h2v4z\"/>\n",
              "    </g>\n",
              "</svg>\n",
              "      </button>\n",
              "\n",
              "<style>\n",
              "  .colab-df-quickchart {\n",
              "      --bg-color: #E8F0FE;\n",
              "      --fill-color: #1967D2;\n",
              "      --hover-bg-color: #E2EBFA;\n",
              "      --hover-fill-color: #174EA6;\n",
              "      --disabled-fill-color: #AAA;\n",
              "      --disabled-bg-color: #DDD;\n",
              "  }\n",
              "\n",
              "  [theme=dark] .colab-df-quickchart {\n",
              "      --bg-color: #3B4455;\n",
              "      --fill-color: #D2E3FC;\n",
              "      --hover-bg-color: #434B5C;\n",
              "      --hover-fill-color: #FFFFFF;\n",
              "      --disabled-bg-color: #3B4455;\n",
              "      --disabled-fill-color: #666;\n",
              "  }\n",
              "\n",
              "  .colab-df-quickchart {\n",
              "    background-color: var(--bg-color);\n",
              "    border: none;\n",
              "    border-radius: 50%;\n",
              "    cursor: pointer;\n",
              "    display: none;\n",
              "    fill: var(--fill-color);\n",
              "    height: 32px;\n",
              "    padding: 0;\n",
              "    width: 32px;\n",
              "  }\n",
              "\n",
              "  .colab-df-quickchart:hover {\n",
              "    background-color: var(--hover-bg-color);\n",
              "    box-shadow: 0 1px 2px rgba(60, 64, 67, 0.3), 0 1px 3px 1px rgba(60, 64, 67, 0.15);\n",
              "    fill: var(--button-hover-fill-color);\n",
              "  }\n",
              "\n",
              "  .colab-df-quickchart-complete:disabled,\n",
              "  .colab-df-quickchart-complete:disabled:hover {\n",
              "    background-color: var(--disabled-bg-color);\n",
              "    fill: var(--disabled-fill-color);\n",
              "    box-shadow: none;\n",
              "  }\n",
              "\n",
              "  .colab-df-spinner {\n",
              "    border: 2px solid var(--fill-color);\n",
              "    border-color: transparent;\n",
              "    border-bottom-color: var(--fill-color);\n",
              "    animation:\n",
              "      spin 1s steps(1) infinite;\n",
              "  }\n",
              "\n",
              "  @keyframes spin {\n",
              "    0% {\n",
              "      border-color: transparent;\n",
              "      border-bottom-color: var(--fill-color);\n",
              "      border-left-color: var(--fill-color);\n",
              "    }\n",
              "    20% {\n",
              "      border-color: transparent;\n",
              "      border-left-color: var(--fill-color);\n",
              "      border-top-color: var(--fill-color);\n",
              "    }\n",
              "    30% {\n",
              "      border-color: transparent;\n",
              "      border-left-color: var(--fill-color);\n",
              "      border-top-color: var(--fill-color);\n",
              "      border-right-color: var(--fill-color);\n",
              "    }\n",
              "    40% {\n",
              "      border-color: transparent;\n",
              "      border-right-color: var(--fill-color);\n",
              "      border-top-color: var(--fill-color);\n",
              "    }\n",
              "    60% {\n",
              "      border-color: transparent;\n",
              "      border-right-color: var(--fill-color);\n",
              "    }\n",
              "    80% {\n",
              "      border-color: transparent;\n",
              "      border-right-color: var(--fill-color);\n",
              "      border-bottom-color: var(--fill-color);\n",
              "    }\n",
              "    90% {\n",
              "      border-color: transparent;\n",
              "      border-bottom-color: var(--fill-color);\n",
              "    }\n",
              "  }\n",
              "</style>\n",
              "\n",
              "      <script>\n",
              "        async function quickchart(key) {\n",
              "          const quickchartButtonEl =\n",
              "            document.querySelector('#' + key + ' button');\n",
              "          quickchartButtonEl.disabled = true;  // To prevent multiple clicks.\n",
              "          quickchartButtonEl.classList.add('colab-df-spinner');\n",
              "          try {\n",
              "            const charts = await google.colab.kernel.invokeFunction(\n",
              "                'suggestCharts', [key], {});\n",
              "          } catch (error) {\n",
              "            console.error('Error during call to suggestCharts:', error);\n",
              "          }\n",
              "          quickchartButtonEl.classList.remove('colab-df-spinner');\n",
              "          quickchartButtonEl.classList.add('colab-df-quickchart-complete');\n",
              "        }\n",
              "        (() => {\n",
              "          let quickchartButtonEl =\n",
              "            document.querySelector('#df-8c56ace4-14bb-4ad1-85d0-6c63ec736586 button');\n",
              "          quickchartButtonEl.style.display =\n",
              "            google.colab.kernel.accessAllowed ? 'block' : 'none';\n",
              "        })();\n",
              "      </script>\n",
              "    </div>\n",
              "\n",
              "    </div>\n",
              "  </div>\n"
            ],
            "application/vnd.google.colaboratory.intrinsic+json": {
              "type": "dataframe",
              "variable_name": "df",
              "summary": "{\n  \"name\": \"df\",\n  \"rows\": 600,\n  \"fields\": [\n    {\n      \"column\": \"title\",\n      \"properties\": {\n        \"dtype\": \"string\",\n        \"num_unique_values\": 600,\n        \"samples\": [\n          \"\\ucc28\\ud615\\uc0ac\",\n          \"\\uafc8\\ubcf4\\ub2e4 \\ud574\\ubabd\",\n          \"\\ub3c4\\ucfc4 \\ud0dd\\uc2dc\"\n        ],\n        \"semantic_type\": \"\",\n        \"description\": \"\"\n      }\n    },\n    {\n      \"column\": \"distributor\",\n      \"properties\": {\n        \"dtype\": \"category\",\n        \"num_unique_values\": 169,\n        \"samples\": [\n          \"KBS\\ubbf8\\ub514\\uc5b4(\\uc8fc)\",\n          \"CJ CGV\",\n          \"\\ud544\\ub984\\ub77c\\uc778\"\n        ],\n        \"semantic_type\": \"\",\n        \"description\": \"\"\n      }\n    },\n    {\n      \"column\": \"genre\",\n      \"properties\": {\n        \"dtype\": \"category\",\n        \"num_unique_values\": 12,\n        \"samples\": [\n          \"\\ubbf8\\uc2a4\\ud130\\ub9ac\",\n          \"\\uc560\\ub2c8\\uba54\\uc774\\uc158\",\n          \"\\uc561\\uc158\"\n        ],\n        \"semantic_type\": \"\",\n        \"description\": \"\"\n      }\n    },\n    {\n      \"column\": \"release_time\",\n      \"properties\": {\n        \"dtype\": \"object\",\n        \"num_unique_values\": 330,\n        \"samples\": [\n          \"2012-03-15\",\n          \"2015-06-11\",\n          \"2015-11-05\"\n        ],\n        \"semantic_type\": \"\",\n        \"description\": \"\"\n      }\n    },\n    {\n      \"column\": \"time\",\n      \"properties\": {\n        \"dtype\": \"number\",\n        \"std\": 18,\n        \"min\": 45,\n        \"max\": 180,\n        \"num_unique_values\": 86,\n        \"samples\": [\n          180,\n          96,\n          73\n        ],\n        \"semantic_type\": \"\",\n        \"description\": \"\"\n      }\n    },\n    {\n      \"column\": \"screening_rat\",\n      \"properties\": {\n        \"dtype\": \"category\",\n        \"num_unique_values\": 4,\n        \"samples\": [\n          \"15\\uc138 \\uad00\\ub78c\\uac00\",\n          \"12\\uc138 \\uad00\\ub78c\\uac00\",\n          \"\\uccad\\uc18c\\ub144 \\uad00\\ub78c\\ubd88\\uac00\"\n        ],\n        \"semantic_type\": \"\",\n        \"description\": \"\"\n      }\n    },\n    {\n      \"column\": \"director\",\n      \"properties\": {\n        \"dtype\": \"string\",\n        \"num_unique_values\": 472,\n        \"samples\": [\n          \"\\uae40\\uc131\\ud638\",\n          \"\\uae40\\uc0c1\\ub9cc\",\n          \"\\uc7a5\\ud76c\\uc120\"\n        ],\n        \"semantic_type\": \"\",\n        \"description\": \"\"\n      }\n    },\n    {\n      \"column\": \"dir_prev_bfnum\",\n      \"properties\": {\n        \"dtype\": \"number\",\n        \"std\": 1791408.3034618676,\n        \"min\": 1.0,\n        \"max\": 17615314.0,\n        \"num_unique_values\": 245,\n        \"samples\": [\n          385977.5,\n          431231.0,\n          917362.2\n        ],\n        \"semantic_type\": \"\",\n        \"description\": \"\"\n      }\n    },\n    {\n      \"column\": \"dir_prev_num\",\n      \"properties\": {\n        \"dtype\": \"number\",\n        \"std\": 1,\n        \"min\": 0,\n        \"max\": 5,\n        \"num_unique_values\": 6,\n        \"samples\": [\n          0,\n          2,\n          5\n        ],\n        \"semantic_type\": \"\",\n        \"description\": \"\"\n      }\n    },\n    {\n      \"column\": \"num_staff\",\n      \"properties\": {\n        \"dtype\": \"number\",\n        \"std\": 165,\n        \"min\": 0,\n        \"max\": 869,\n        \"num_unique_values\": 296,\n        \"samples\": [\n          300,\n          302,\n          298\n        ],\n        \"semantic_type\": \"\",\n        \"description\": \"\"\n      }\n    },\n    {\n      \"column\": \"num_actor\",\n      \"properties\": {\n        \"dtype\": \"number\",\n        \"std\": 2,\n        \"min\": 0,\n        \"max\": 25,\n        \"num_unique_values\": 17,\n        \"samples\": [\n          2,\n          3,\n          1\n        ],\n        \"semantic_type\": \"\",\n        \"description\": \"\"\n      }\n    },\n    {\n      \"column\": \"box_off_num\",\n      \"properties\": {\n        \"dtype\": \"number\",\n        \"std\": 1828005,\n        \"min\": 1,\n        \"max\": 14262766,\n        \"num_unique_values\": 586,\n        \"samples\": [\n          426,\n          1980050,\n          577\n        ],\n        \"semantic_type\": \"\",\n        \"description\": \"\"\n      }\n    }\n  ]\n}"
            }
          },
          "metadata": {},
          "execution_count": 5
        }
      ]
    },
    {
      "cell_type": "code",
      "source": [
        "df.shape"
      ],
      "metadata": {
        "colab": {
          "base_uri": "https://localhost:8080/"
        },
        "id": "J1Tla6SzG2_G",
        "outputId": "7f37a74f-0e20-44d8-b627-234f09d34a96"
      },
      "execution_count": 6,
      "outputs": [
        {
          "output_type": "execute_result",
          "data": {
            "text/plain": [
              "(600, 12)"
            ]
          },
          "metadata": {},
          "execution_count": 6
        }
      ]
    },
    {
      "cell_type": "code",
      "source": [
        "df.info() #데이터 타입 확인"
      ],
      "metadata": {
        "colab": {
          "base_uri": "https://localhost:8080/"
        },
        "id": "ty89nd1FG4Y9",
        "outputId": "c01360c0-43ed-4c1c-975c-55d0f54bb7f9"
      },
      "execution_count": 7,
      "outputs": [
        {
          "output_type": "stream",
          "name": "stdout",
          "text": [
            "<class 'pandas.core.frame.DataFrame'>\n",
            "RangeIndex: 600 entries, 0 to 599\n",
            "Data columns (total 12 columns):\n",
            " #   Column          Non-Null Count  Dtype  \n",
            "---  ------          --------------  -----  \n",
            " 0   title           600 non-null    object \n",
            " 1   distributor     600 non-null    object \n",
            " 2   genre           600 non-null    object \n",
            " 3   release_time    600 non-null    object \n",
            " 4   time            600 non-null    int64  \n",
            " 5   screening_rat   600 non-null    object \n",
            " 6   director        600 non-null    object \n",
            " 7   dir_prev_bfnum  270 non-null    float64\n",
            " 8   dir_prev_num    600 non-null    int64  \n",
            " 9   num_staff       600 non-null    int64  \n",
            " 10  num_actor       600 non-null    int64  \n",
            " 11  box_off_num     600 non-null    int64  \n",
            "dtypes: float64(1), int64(5), object(6)\n",
            "memory usage: 56.4+ KB\n"
          ]
        }
      ]
    },
    {
      "cell_type": "code",
      "source": [
        "df.nunique() #고유값 개수 확인"
      ],
      "metadata": {
        "colab": {
          "base_uri": "https://localhost:8080/",
          "height": 460
        },
        "id": "EvGQVTXFG584",
        "outputId": "e63906ea-f6e2-4f3c-c51d-db82ea420768"
      },
      "execution_count": 8,
      "outputs": [
        {
          "output_type": "execute_result",
          "data": {
            "text/plain": [
              "title             600\n",
              "distributor       169\n",
              "genre              12\n",
              "release_time      330\n",
              "time               86\n",
              "screening_rat       4\n",
              "director          472\n",
              "dir_prev_bfnum    245\n",
              "dir_prev_num        6\n",
              "num_staff         296\n",
              "num_actor          17\n",
              "box_off_num       586\n",
              "dtype: int64"
            ],
            "text/html": [
              "<div>\n",
              "<style scoped>\n",
              "    .dataframe tbody tr th:only-of-type {\n",
              "        vertical-align: middle;\n",
              "    }\n",
              "\n",
              "    .dataframe tbody tr th {\n",
              "        vertical-align: top;\n",
              "    }\n",
              "\n",
              "    .dataframe thead th {\n",
              "        text-align: right;\n",
              "    }\n",
              "</style>\n",
              "<table border=\"1\" class=\"dataframe\">\n",
              "  <thead>\n",
              "    <tr style=\"text-align: right;\">\n",
              "      <th></th>\n",
              "      <th>0</th>\n",
              "    </tr>\n",
              "  </thead>\n",
              "  <tbody>\n",
              "    <tr>\n",
              "      <th>title</th>\n",
              "      <td>600</td>\n",
              "    </tr>\n",
              "    <tr>\n",
              "      <th>distributor</th>\n",
              "      <td>169</td>\n",
              "    </tr>\n",
              "    <tr>\n",
              "      <th>genre</th>\n",
              "      <td>12</td>\n",
              "    </tr>\n",
              "    <tr>\n",
              "      <th>release_time</th>\n",
              "      <td>330</td>\n",
              "    </tr>\n",
              "    <tr>\n",
              "      <th>time</th>\n",
              "      <td>86</td>\n",
              "    </tr>\n",
              "    <tr>\n",
              "      <th>screening_rat</th>\n",
              "      <td>4</td>\n",
              "    </tr>\n",
              "    <tr>\n",
              "      <th>director</th>\n",
              "      <td>472</td>\n",
              "    </tr>\n",
              "    <tr>\n",
              "      <th>dir_prev_bfnum</th>\n",
              "      <td>245</td>\n",
              "    </tr>\n",
              "    <tr>\n",
              "      <th>dir_prev_num</th>\n",
              "      <td>6</td>\n",
              "    </tr>\n",
              "    <tr>\n",
              "      <th>num_staff</th>\n",
              "      <td>296</td>\n",
              "    </tr>\n",
              "    <tr>\n",
              "      <th>num_actor</th>\n",
              "      <td>17</td>\n",
              "    </tr>\n",
              "    <tr>\n",
              "      <th>box_off_num</th>\n",
              "      <td>586</td>\n",
              "    </tr>\n",
              "  </tbody>\n",
              "</table>\n",
              "</div><br><label><b>dtype:</b> int64</label>"
            ]
          },
          "metadata": {},
          "execution_count": 8
        }
      ]
    },
    {
      "cell_type": "code",
      "source": [
        "print(df.isnull().sum()) #결측치 있는 열 확인"
      ],
      "metadata": {
        "colab": {
          "base_uri": "https://localhost:8080/"
        },
        "id": "Ar_UTfybG7oT",
        "outputId": "1ad10b07-fc79-433d-8066-1476b14b82ad"
      },
      "execution_count": 9,
      "outputs": [
        {
          "output_type": "stream",
          "name": "stdout",
          "text": [
            "title               0\n",
            "distributor         0\n",
            "genre               0\n",
            "release_time        0\n",
            "time                0\n",
            "screening_rat       0\n",
            "director            0\n",
            "dir_prev_bfnum    330\n",
            "dir_prev_num        0\n",
            "num_staff           0\n",
            "num_actor           0\n",
            "box_off_num         0\n",
            "dtype: int64\n"
          ]
        }
      ]
    },
    {
      "cell_type": "code",
      "source": [
        "df['dir_prev_bfnum'] = df['dir_prev_bfnum'].fillna(0) #결측치 0으로 채우기\n",
        "print(df['dir_prev_bfnum'].isnull().sum()) #채우고 결측치 수 다시 확인"
      ],
      "metadata": {
        "colab": {
          "base_uri": "https://localhost:8080/"
        },
        "id": "zf1HaYwSG9Kq",
        "outputId": "40fd2a2e-2368-423b-fec6-095b187fba03"
      },
      "execution_count": 10,
      "outputs": [
        {
          "output_type": "stream",
          "name": "stdout",
          "text": [
            "0\n"
          ]
        }
      ]
    },
    {
      "cell_type": "code",
      "source": [
        "#이상치 확인\n",
        "Q1 = df['box_off_num'].quantile(0.25)\n",
        "Q3 = df['box_off_num'].quantile(0.75)\n",
        "IQR = Q3 - Q1\n",
        "\n",
        "lower = Q1 - 1.5 * IQR\n",
        "upper = Q3 + 1.5 * IQR\n",
        "\n",
        "outliers = df[(df['box_off_num'] < lower) | (df['box_off_num'] > upper)]\n",
        "out_num = outliers['box_off_num']\n",
        "\n",
        "print(f'관객수 이상치 개수: {len(out_num)}')"
      ],
      "metadata": {
        "colab": {
          "base_uri": "https://localhost:8080/"
        },
        "id": "aX8yY8SoG-8I",
        "outputId": "68530833-43fc-4c4a-e1b5-0c4cff352fba"
      },
      "execution_count": 11,
      "outputs": [
        {
          "output_type": "stream",
          "name": "stdout",
          "text": [
            "관객수 이상치 개수: 97\n"
          ]
        }
      ]
    },
    {
      "cell_type": "code",
      "source": [
        "#이상치 로그변환\n",
        "df[\"box_off_num\"] = np.log1p(df[\"box_off_num\"])  # log(x+1) 변환\n",
        "\n",
        "df.head()"
      ],
      "metadata": {
        "colab": {
          "base_uri": "https://localhost:8080/",
          "height": 206
        },
        "id": "9V3iJ08THAcD",
        "outputId": "4c20f114-cef0-435f-a6bc-990ceeef5215"
      },
      "execution_count": 12,
      "outputs": [
        {
          "output_type": "execute_result",
          "data": {
            "text/plain": [
              "       title   distributor genre release_time  time screening_rat director  \\\n",
              "0     개들의 전쟁      롯데엔터테인먼트    액션   2012-11-22    96      청소년 관람불가      조병옥   \n",
              "1       내부자들        (주)쇼박스   느와르   2015-11-19   130      청소년 관람불가      우민호   \n",
              "2  은밀하게 위대하게        (주)쇼박스    액션   2013-06-05   123       15세 관람가      장철수   \n",
              "3   나는 공무원이다        (주)NEW   코미디   2012-07-12   101        전체 관람가      구자홍   \n",
              "4       불량남녀  쇼박스(주)미디어플렉스   코미디   2010-11-04   108       15세 관람가      신근호   \n",
              "\n",
              "   dir_prev_bfnum  dir_prev_num  num_staff  num_actor  box_off_num  \n",
              "0            0.00             0         91          2    10.060449  \n",
              "1      1161602.50             2        387          3    15.771725  \n",
              "2       220775.25             4        343          4    15.755558  \n",
              "3        23894.00             2         20          6    12.291640  \n",
              "4            1.00             1        251          2    13.088575  "
            ],
            "text/html": [
              "\n",
              "  <div id=\"df-e9af7df4-d15a-4f19-8118-1059bdc47cd7\" class=\"colab-df-container\">\n",
              "    <div>\n",
              "<style scoped>\n",
              "    .dataframe tbody tr th:only-of-type {\n",
              "        vertical-align: middle;\n",
              "    }\n",
              "\n",
              "    .dataframe tbody tr th {\n",
              "        vertical-align: top;\n",
              "    }\n",
              "\n",
              "    .dataframe thead th {\n",
              "        text-align: right;\n",
              "    }\n",
              "</style>\n",
              "<table border=\"1\" class=\"dataframe\">\n",
              "  <thead>\n",
              "    <tr style=\"text-align: right;\">\n",
              "      <th></th>\n",
              "      <th>title</th>\n",
              "      <th>distributor</th>\n",
              "      <th>genre</th>\n",
              "      <th>release_time</th>\n",
              "      <th>time</th>\n",
              "      <th>screening_rat</th>\n",
              "      <th>director</th>\n",
              "      <th>dir_prev_bfnum</th>\n",
              "      <th>dir_prev_num</th>\n",
              "      <th>num_staff</th>\n",
              "      <th>num_actor</th>\n",
              "      <th>box_off_num</th>\n",
              "    </tr>\n",
              "  </thead>\n",
              "  <tbody>\n",
              "    <tr>\n",
              "      <th>0</th>\n",
              "      <td>개들의 전쟁</td>\n",
              "      <td>롯데엔터테인먼트</td>\n",
              "      <td>액션</td>\n",
              "      <td>2012-11-22</td>\n",
              "      <td>96</td>\n",
              "      <td>청소년 관람불가</td>\n",
              "      <td>조병옥</td>\n",
              "      <td>0.00</td>\n",
              "      <td>0</td>\n",
              "      <td>91</td>\n",
              "      <td>2</td>\n",
              "      <td>10.060449</td>\n",
              "    </tr>\n",
              "    <tr>\n",
              "      <th>1</th>\n",
              "      <td>내부자들</td>\n",
              "      <td>(주)쇼박스</td>\n",
              "      <td>느와르</td>\n",
              "      <td>2015-11-19</td>\n",
              "      <td>130</td>\n",
              "      <td>청소년 관람불가</td>\n",
              "      <td>우민호</td>\n",
              "      <td>1161602.50</td>\n",
              "      <td>2</td>\n",
              "      <td>387</td>\n",
              "      <td>3</td>\n",
              "      <td>15.771725</td>\n",
              "    </tr>\n",
              "    <tr>\n",
              "      <th>2</th>\n",
              "      <td>은밀하게 위대하게</td>\n",
              "      <td>(주)쇼박스</td>\n",
              "      <td>액션</td>\n",
              "      <td>2013-06-05</td>\n",
              "      <td>123</td>\n",
              "      <td>15세 관람가</td>\n",
              "      <td>장철수</td>\n",
              "      <td>220775.25</td>\n",
              "      <td>4</td>\n",
              "      <td>343</td>\n",
              "      <td>4</td>\n",
              "      <td>15.755558</td>\n",
              "    </tr>\n",
              "    <tr>\n",
              "      <th>3</th>\n",
              "      <td>나는 공무원이다</td>\n",
              "      <td>(주)NEW</td>\n",
              "      <td>코미디</td>\n",
              "      <td>2012-07-12</td>\n",
              "      <td>101</td>\n",
              "      <td>전체 관람가</td>\n",
              "      <td>구자홍</td>\n",
              "      <td>23894.00</td>\n",
              "      <td>2</td>\n",
              "      <td>20</td>\n",
              "      <td>6</td>\n",
              "      <td>12.291640</td>\n",
              "    </tr>\n",
              "    <tr>\n",
              "      <th>4</th>\n",
              "      <td>불량남녀</td>\n",
              "      <td>쇼박스(주)미디어플렉스</td>\n",
              "      <td>코미디</td>\n",
              "      <td>2010-11-04</td>\n",
              "      <td>108</td>\n",
              "      <td>15세 관람가</td>\n",
              "      <td>신근호</td>\n",
              "      <td>1.00</td>\n",
              "      <td>1</td>\n",
              "      <td>251</td>\n",
              "      <td>2</td>\n",
              "      <td>13.088575</td>\n",
              "    </tr>\n",
              "  </tbody>\n",
              "</table>\n",
              "</div>\n",
              "    <div class=\"colab-df-buttons\">\n",
              "\n",
              "  <div class=\"colab-df-container\">\n",
              "    <button class=\"colab-df-convert\" onclick=\"convertToInteractive('df-e9af7df4-d15a-4f19-8118-1059bdc47cd7')\"\n",
              "            title=\"Convert this dataframe to an interactive table.\"\n",
              "            style=\"display:none;\">\n",
              "\n",
              "  <svg xmlns=\"http://www.w3.org/2000/svg\" height=\"24px\" viewBox=\"0 -960 960 960\">\n",
              "    <path d=\"M120-120v-720h720v720H120Zm60-500h600v-160H180v160Zm220 220h160v-160H400v160Zm0 220h160v-160H400v160ZM180-400h160v-160H180v160Zm440 0h160v-160H620v160ZM180-180h160v-160H180v160Zm440 0h160v-160H620v160Z\"/>\n",
              "  </svg>\n",
              "    </button>\n",
              "\n",
              "  <style>\n",
              "    .colab-df-container {\n",
              "      display:flex;\n",
              "      gap: 12px;\n",
              "    }\n",
              "\n",
              "    .colab-df-convert {\n",
              "      background-color: #E8F0FE;\n",
              "      border: none;\n",
              "      border-radius: 50%;\n",
              "      cursor: pointer;\n",
              "      display: none;\n",
              "      fill: #1967D2;\n",
              "      height: 32px;\n",
              "      padding: 0 0 0 0;\n",
              "      width: 32px;\n",
              "    }\n",
              "\n",
              "    .colab-df-convert:hover {\n",
              "      background-color: #E2EBFA;\n",
              "      box-shadow: 0px 1px 2px rgba(60, 64, 67, 0.3), 0px 1px 3px 1px rgba(60, 64, 67, 0.15);\n",
              "      fill: #174EA6;\n",
              "    }\n",
              "\n",
              "    .colab-df-buttons div {\n",
              "      margin-bottom: 4px;\n",
              "    }\n",
              "\n",
              "    [theme=dark] .colab-df-convert {\n",
              "      background-color: #3B4455;\n",
              "      fill: #D2E3FC;\n",
              "    }\n",
              "\n",
              "    [theme=dark] .colab-df-convert:hover {\n",
              "      background-color: #434B5C;\n",
              "      box-shadow: 0px 1px 3px 1px rgba(0, 0, 0, 0.15);\n",
              "      filter: drop-shadow(0px 1px 2px rgba(0, 0, 0, 0.3));\n",
              "      fill: #FFFFFF;\n",
              "    }\n",
              "  </style>\n",
              "\n",
              "    <script>\n",
              "      const buttonEl =\n",
              "        document.querySelector('#df-e9af7df4-d15a-4f19-8118-1059bdc47cd7 button.colab-df-convert');\n",
              "      buttonEl.style.display =\n",
              "        google.colab.kernel.accessAllowed ? 'block' : 'none';\n",
              "\n",
              "      async function convertToInteractive(key) {\n",
              "        const element = document.querySelector('#df-e9af7df4-d15a-4f19-8118-1059bdc47cd7');\n",
              "        const dataTable =\n",
              "          await google.colab.kernel.invokeFunction('convertToInteractive',\n",
              "                                                    [key], {});\n",
              "        if (!dataTable) return;\n",
              "\n",
              "        const docLinkHtml = 'Like what you see? Visit the ' +\n",
              "          '<a target=\"_blank\" href=https://colab.research.google.com/notebooks/data_table.ipynb>data table notebook</a>'\n",
              "          + ' to learn more about interactive tables.';\n",
              "        element.innerHTML = '';\n",
              "        dataTable['output_type'] = 'display_data';\n",
              "        await google.colab.output.renderOutput(dataTable, element);\n",
              "        const docLink = document.createElement('div');\n",
              "        docLink.innerHTML = docLinkHtml;\n",
              "        element.appendChild(docLink);\n",
              "      }\n",
              "    </script>\n",
              "  </div>\n",
              "\n",
              "\n",
              "    <div id=\"df-fbab4976-8889-44d4-b1fd-382b1151d884\">\n",
              "      <button class=\"colab-df-quickchart\" onclick=\"quickchart('df-fbab4976-8889-44d4-b1fd-382b1151d884')\"\n",
              "                title=\"Suggest charts\"\n",
              "                style=\"display:none;\">\n",
              "\n",
              "<svg xmlns=\"http://www.w3.org/2000/svg\" height=\"24px\"viewBox=\"0 0 24 24\"\n",
              "     width=\"24px\">\n",
              "    <g>\n",
              "        <path d=\"M19 3H5c-1.1 0-2 .9-2 2v14c0 1.1.9 2 2 2h14c1.1 0 2-.9 2-2V5c0-1.1-.9-2-2-2zM9 17H7v-7h2v7zm4 0h-2V7h2v10zm4 0h-2v-4h2v4z\"/>\n",
              "    </g>\n",
              "</svg>\n",
              "      </button>\n",
              "\n",
              "<style>\n",
              "  .colab-df-quickchart {\n",
              "      --bg-color: #E8F0FE;\n",
              "      --fill-color: #1967D2;\n",
              "      --hover-bg-color: #E2EBFA;\n",
              "      --hover-fill-color: #174EA6;\n",
              "      --disabled-fill-color: #AAA;\n",
              "      --disabled-bg-color: #DDD;\n",
              "  }\n",
              "\n",
              "  [theme=dark] .colab-df-quickchart {\n",
              "      --bg-color: #3B4455;\n",
              "      --fill-color: #D2E3FC;\n",
              "      --hover-bg-color: #434B5C;\n",
              "      --hover-fill-color: #FFFFFF;\n",
              "      --disabled-bg-color: #3B4455;\n",
              "      --disabled-fill-color: #666;\n",
              "  }\n",
              "\n",
              "  .colab-df-quickchart {\n",
              "    background-color: var(--bg-color);\n",
              "    border: none;\n",
              "    border-radius: 50%;\n",
              "    cursor: pointer;\n",
              "    display: none;\n",
              "    fill: var(--fill-color);\n",
              "    height: 32px;\n",
              "    padding: 0;\n",
              "    width: 32px;\n",
              "  }\n",
              "\n",
              "  .colab-df-quickchart:hover {\n",
              "    background-color: var(--hover-bg-color);\n",
              "    box-shadow: 0 1px 2px rgba(60, 64, 67, 0.3), 0 1px 3px 1px rgba(60, 64, 67, 0.15);\n",
              "    fill: var(--button-hover-fill-color);\n",
              "  }\n",
              "\n",
              "  .colab-df-quickchart-complete:disabled,\n",
              "  .colab-df-quickchart-complete:disabled:hover {\n",
              "    background-color: var(--disabled-bg-color);\n",
              "    fill: var(--disabled-fill-color);\n",
              "    box-shadow: none;\n",
              "  }\n",
              "\n",
              "  .colab-df-spinner {\n",
              "    border: 2px solid var(--fill-color);\n",
              "    border-color: transparent;\n",
              "    border-bottom-color: var(--fill-color);\n",
              "    animation:\n",
              "      spin 1s steps(1) infinite;\n",
              "  }\n",
              "\n",
              "  @keyframes spin {\n",
              "    0% {\n",
              "      border-color: transparent;\n",
              "      border-bottom-color: var(--fill-color);\n",
              "      border-left-color: var(--fill-color);\n",
              "    }\n",
              "    20% {\n",
              "      border-color: transparent;\n",
              "      border-left-color: var(--fill-color);\n",
              "      border-top-color: var(--fill-color);\n",
              "    }\n",
              "    30% {\n",
              "      border-color: transparent;\n",
              "      border-left-color: var(--fill-color);\n",
              "      border-top-color: var(--fill-color);\n",
              "      border-right-color: var(--fill-color);\n",
              "    }\n",
              "    40% {\n",
              "      border-color: transparent;\n",
              "      border-right-color: var(--fill-color);\n",
              "      border-top-color: var(--fill-color);\n",
              "    }\n",
              "    60% {\n",
              "      border-color: transparent;\n",
              "      border-right-color: var(--fill-color);\n",
              "    }\n",
              "    80% {\n",
              "      border-color: transparent;\n",
              "      border-right-color: var(--fill-color);\n",
              "      border-bottom-color: var(--fill-color);\n",
              "    }\n",
              "    90% {\n",
              "      border-color: transparent;\n",
              "      border-bottom-color: var(--fill-color);\n",
              "    }\n",
              "  }\n",
              "</style>\n",
              "\n",
              "      <script>\n",
              "        async function quickchart(key) {\n",
              "          const quickchartButtonEl =\n",
              "            document.querySelector('#' + key + ' button');\n",
              "          quickchartButtonEl.disabled = true;  // To prevent multiple clicks.\n",
              "          quickchartButtonEl.classList.add('colab-df-spinner');\n",
              "          try {\n",
              "            const charts = await google.colab.kernel.invokeFunction(\n",
              "                'suggestCharts', [key], {});\n",
              "          } catch (error) {\n",
              "            console.error('Error during call to suggestCharts:', error);\n",
              "          }\n",
              "          quickchartButtonEl.classList.remove('colab-df-spinner');\n",
              "          quickchartButtonEl.classList.add('colab-df-quickchart-complete');\n",
              "        }\n",
              "        (() => {\n",
              "          let quickchartButtonEl =\n",
              "            document.querySelector('#df-fbab4976-8889-44d4-b1fd-382b1151d884 button');\n",
              "          quickchartButtonEl.style.display =\n",
              "            google.colab.kernel.accessAllowed ? 'block' : 'none';\n",
              "        })();\n",
              "      </script>\n",
              "    </div>\n",
              "\n",
              "    </div>\n",
              "  </div>\n"
            ],
            "application/vnd.google.colaboratory.intrinsic+json": {
              "type": "dataframe",
              "variable_name": "df",
              "summary": "{\n  \"name\": \"df\",\n  \"rows\": 600,\n  \"fields\": [\n    {\n      \"column\": \"title\",\n      \"properties\": {\n        \"dtype\": \"string\",\n        \"num_unique_values\": 600,\n        \"samples\": [\n          \"\\ucc28\\ud615\\uc0ac\",\n          \"\\uafc8\\ubcf4\\ub2e4 \\ud574\\ubabd\",\n          \"\\ub3c4\\ucfc4 \\ud0dd\\uc2dc\"\n        ],\n        \"semantic_type\": \"\",\n        \"description\": \"\"\n      }\n    },\n    {\n      \"column\": \"distributor\",\n      \"properties\": {\n        \"dtype\": \"category\",\n        \"num_unique_values\": 169,\n        \"samples\": [\n          \"KBS\\ubbf8\\ub514\\uc5b4(\\uc8fc)\",\n          \"CJ CGV\",\n          \"\\ud544\\ub984\\ub77c\\uc778\"\n        ],\n        \"semantic_type\": \"\",\n        \"description\": \"\"\n      }\n    },\n    {\n      \"column\": \"genre\",\n      \"properties\": {\n        \"dtype\": \"category\",\n        \"num_unique_values\": 12,\n        \"samples\": [\n          \"\\ubbf8\\uc2a4\\ud130\\ub9ac\",\n          \"\\uc560\\ub2c8\\uba54\\uc774\\uc158\",\n          \"\\uc561\\uc158\"\n        ],\n        \"semantic_type\": \"\",\n        \"description\": \"\"\n      }\n    },\n    {\n      \"column\": \"release_time\",\n      \"properties\": {\n        \"dtype\": \"object\",\n        \"num_unique_values\": 330,\n        \"samples\": [\n          \"2012-03-15\",\n          \"2015-06-11\",\n          \"2015-11-05\"\n        ],\n        \"semantic_type\": \"\",\n        \"description\": \"\"\n      }\n    },\n    {\n      \"column\": \"time\",\n      \"properties\": {\n        \"dtype\": \"number\",\n        \"std\": 18,\n        \"min\": 45,\n        \"max\": 180,\n        \"num_unique_values\": 86,\n        \"samples\": [\n          180,\n          96,\n          73\n        ],\n        \"semantic_type\": \"\",\n        \"description\": \"\"\n      }\n    },\n    {\n      \"column\": \"screening_rat\",\n      \"properties\": {\n        \"dtype\": \"category\",\n        \"num_unique_values\": 4,\n        \"samples\": [\n          \"15\\uc138 \\uad00\\ub78c\\uac00\",\n          \"12\\uc138 \\uad00\\ub78c\\uac00\",\n          \"\\uccad\\uc18c\\ub144 \\uad00\\ub78c\\ubd88\\uac00\"\n        ],\n        \"semantic_type\": \"\",\n        \"description\": \"\"\n      }\n    },\n    {\n      \"column\": \"director\",\n      \"properties\": {\n        \"dtype\": \"string\",\n        \"num_unique_values\": 472,\n        \"samples\": [\n          \"\\uae40\\uc131\\ud638\",\n          \"\\uae40\\uc0c1\\ub9cc\",\n          \"\\uc7a5\\ud76c\\uc120\"\n        ],\n        \"semantic_type\": \"\",\n        \"description\": \"\"\n      }\n    },\n    {\n      \"column\": \"dir_prev_bfnum\",\n      \"properties\": {\n        \"dtype\": \"number\",\n        \"std\": 1309474.3065380566,\n        \"min\": 0.0,\n        \"max\": 17615314.0,\n        \"num_unique_values\": 246,\n        \"samples\": [\n          1715370.0,\n          739522.0,\n          234261.0\n        ],\n        \"semantic_type\": \"\",\n        \"description\": \"\"\n      }\n    },\n    {\n      \"column\": \"dir_prev_num\",\n      \"properties\": {\n        \"dtype\": \"number\",\n        \"std\": 1,\n        \"min\": 0,\n        \"max\": 5,\n        \"num_unique_values\": 6,\n        \"samples\": [\n          0,\n          2,\n          5\n        ],\n        \"semantic_type\": \"\",\n        \"description\": \"\"\n      }\n    },\n    {\n      \"column\": \"num_staff\",\n      \"properties\": {\n        \"dtype\": \"number\",\n        \"std\": 165,\n        \"min\": 0,\n        \"max\": 869,\n        \"num_unique_values\": 296,\n        \"samples\": [\n          300,\n          302,\n          298\n        ],\n        \"semantic_type\": \"\",\n        \"description\": \"\"\n      }\n    },\n    {\n      \"column\": \"num_actor\",\n      \"properties\": {\n        \"dtype\": \"number\",\n        \"std\": 2,\n        \"min\": 0,\n        \"max\": 25,\n        \"num_unique_values\": 17,\n        \"samples\": [\n          2,\n          3,\n          1\n        ],\n        \"semantic_type\": \"\",\n        \"description\": \"\"\n      }\n    },\n    {\n      \"column\": \"box_off_num\",\n      \"properties\": {\n        \"dtype\": \"number\",\n        \"std\": 3.3152296587249075,\n        \"min\": 0.6931471805599453,\n        \"max\": 16.473162993397928,\n        \"num_unique_values\": 586,\n        \"samples\": [\n          6.056784013228625,\n          14.498633159914755,\n          6.359573868672378\n        ],\n        \"semantic_type\": \"\",\n        \"description\": \"\"\n      }\n    }\n  ]\n}"
            }
          },
          "metadata": {},
          "execution_count": 12
        }
      ]
    },
    {
      "cell_type": "code",
      "source": [
        "df['release_time'] = pd.to_datetime(df['release_time']) #datetime형으로 변환\n",
        "print(df.info()) #변환 여부 확인"
      ],
      "metadata": {
        "colab": {
          "base_uri": "https://localhost:8080/"
        },
        "id": "3U-d7N9EHB-L",
        "outputId": "a036bd39-1982-4739-e91d-c09a668c1799"
      },
      "execution_count": 13,
      "outputs": [
        {
          "output_type": "stream",
          "name": "stdout",
          "text": [
            "<class 'pandas.core.frame.DataFrame'>\n",
            "RangeIndex: 600 entries, 0 to 599\n",
            "Data columns (total 12 columns):\n",
            " #   Column          Non-Null Count  Dtype         \n",
            "---  ------          --------------  -----         \n",
            " 0   title           600 non-null    object        \n",
            " 1   distributor     600 non-null    object        \n",
            " 2   genre           600 non-null    object        \n",
            " 3   release_time    600 non-null    datetime64[ns]\n",
            " 4   time            600 non-null    int64         \n",
            " 5   screening_rat   600 non-null    object        \n",
            " 6   director        600 non-null    object        \n",
            " 7   dir_prev_bfnum  600 non-null    float64       \n",
            " 8   dir_prev_num    600 non-null    int64         \n",
            " 9   num_staff       600 non-null    int64         \n",
            " 10  num_actor       600 non-null    int64         \n",
            " 11  box_off_num     600 non-null    float64       \n",
            "dtypes: datetime64[ns](1), float64(2), int64(4), object(5)\n",
            "memory usage: 56.4+ KB\n",
            "None\n"
          ]
        }
      ]
    },
    {
      "cell_type": "markdown",
      "source": [
        "ㄴㄴ"
      ],
      "metadata": {
        "id": "ft497ZOlIPbP"
      }
    },
    {
      "cell_type": "code",
      "source": [
        "needed = [\"genre\", \"num_staff\", \"box_off_num\"]\n",
        "\n",
        "df_plot = df[needed].copy()\n",
        "df_plot[\"num_staff\"] = pd.to_numeric(df_plot[\"num_staff\"], errors=\"coerce\")\n",
        "df_plot[\"box_off_num\"] = pd.to_numeric(df_plot[\"box_off_num\"], errors=\"coerce\")\n",
        "df_plot = df_plot.dropna(subset=[\"genre\",\"num_staff\",\"box_off_num\"])"
      ],
      "metadata": {
        "id": "8bDsutQNIPzw"
      },
      "execution_count": 14,
      "outputs": []
    },
    {
      "cell_type": "code",
      "source": [
        "plt.figure(figsize=(8, 6))\n",
        "plt.scatter(\n",
        "    data=df_plot,\n",
        "    x=\"num_staff\",\n",
        "    y=\"box_off_num\",\n",
        ")\n",
        "plt.title(\"스태프 수 vs 관객 수(로그)\")\n",
        "plt.xlabel(\"스태프 수\")\n",
        "plt.ylabel(\"관객 수(로그 변환)\")\n",
        "plt.show()"
      ],
      "metadata": {
        "colab": {
          "base_uri": "https://localhost:8080/",
          "height": 571
        },
        "id": "8Lajbh2aKyw1",
        "outputId": "08f9d006-32a9-48ab-c469-13eba871f4ee"
      },
      "execution_count": 24,
      "outputs": [
        {
          "output_type": "display_data",
          "data": {
            "text/plain": [
              "<Figure size 800x600 with 1 Axes>"
            ],
            "image/png": "[encoded data removed]"
          },
          "metadata": {}
        }
      ]
    },
    {
      "cell_type": "code",
      "source": [
        "# 스태프 수와 관객 수의 상관계수\n",
        "tmp = df_plot[['num_staff', 'box_off_num']].dropna()\n",
        "corr = np.corrcoef(tmp['num_staff'].values, tmp['box_off_num'].values)[0, 1]\n",
        "print(f'num_staff와 box_off_num 간의 상관계수: {corr}')"
      ],
      "metadata": {
        "colab": {
          "base_uri": "https://localhost:8080/"
        },
        "id": "Kvkdl5ixSHj9",
        "outputId": "49412841-372f-42e6-dd65-0fc8e01274f9"
      },
      "execution_count": 30,
      "outputs": [
        {
          "output_type": "stream",
          "name": "stdout",
          "text": [
            "num_staff와 box_off_num 간의 상관계수: 0.7450849036972651\n"
          ]
        }
      ]
    },
    {
      "cell_type": "code",
      "source": [
        "order_med = (df_plot.groupby(\"genre\")[\"num_staff\"]\n",
        "                      .median()\n",
        "                      .sort_values(ascending=False)\n",
        "                      .index)\n",
        "\n",
        "plt.figure(figsize=(12, 6))\n",
        "sns.boxplot(\n",
        "    data=df_plot,\n",
        "    x=\"genre\",\n",
        "    y=\"num_staff\",\n",
        "    order=order_med,\n",
        "    fliersize=2\n",
        ")\n",
        "plt.title(\"장르별 스태프 수 분포\")\n",
        "plt.xlabel(\"장르\")\n",
        "plt.ylabel(\"스태프 수\")\n",
        "plt.show()"
      ],
      "metadata": {
        "colab": {
          "base_uri": "https://localhost:8080/",
          "height": 570
        },
        "id": "n1A7Wm0YLqYI",
        "outputId": "046856b5-881c-4618-dac6-cd1afdb05816"
      },
      "execution_count": 18,
      "outputs": [
        {
          "output_type": "display_data",
          "data": {
            "text/plain": [
              "<Figure size 1200x600 with 1 Axes>"
            ],
            "image/png": "[encoded data removed]"
          },
          "metadata": {}
        }
      ]
    },
    {
      "cell_type": "code",
      "source": [
        "gn_staff = (df_plot.groupby(\"genre\", as_index=False)[\"num_staff\"]\n",
        "                    .mean()\n",
        "                    .sort_values(\"num_staff\", ascending=False))\n",
        "\n",
        "plt.figure(figsize=(12, 6))\n",
        "sns.barplot(\n",
        "    data=gn_staff,\n",
        "    x=\"genre\",\n",
        "    y=\"num_staff\",\n",
        "    order=gn_staff[\"genre\"],\n",
        ")\n",
        "plt.title(\"장르별 평균 스태프 수\")\n",
        "plt.xlabel(\"장르\")\n",
        "plt.ylabel(\"평균 스태프 수\")\n",
        "\n",
        "plt.show()"
      ],
      "metadata": {
        "colab": {
          "base_uri": "https://localhost:8080/",
          "height": 570
        },
        "id": "o6CbPvsxL8B1",
        "outputId": "fc49b5b8-2571-4e41-8b8e-7558585b5b81"
      },
      "execution_count": 19,
      "outputs": [
        {
          "output_type": "display_data",
          "data": {
            "text/plain": [
              "<Figure size 1200x600 with 1 Axes>"
            ],
            "image/png": "[encoded data removed]"
          },
          "metadata": {}
        }
      ]
    },
    {
      "cell_type": "code",
      "source": [
        "uses = [\"num_staff\", \"time\"]\n",
        "\n",
        "df_use = df[uses].copy()\n",
        "df_use[\"num_staff\"] = pd.to_numeric(df_use[\"num_staff\"], errors=\"coerce\")\n",
        "df_use[\"time\"]      = pd.to_numeric(df_use[\"time\"], errors=\"coerce\")\n",
        "df_use = df_use.dropna(subset=[\"num_staff\", \"time\"])\n",
        "\n",
        "\n",
        "\n",
        "plt.figure(figsize=(8, 6))\n",
        "plt.scatter(\n",
        "    df_use[\"num_staff\"],\n",
        "    df_use[\"time\"],\n",
        ")\n",
        "plt.title(\"스태프 수 vs 상영시간 (산점도)\")\n",
        "plt.xlabel(\"스태프 수\")\n",
        "plt.ylabel(\"상영시간(분)\")\n",
        "plt.grid(True, linestyle=\"--\", alpha=0.4)\n",
        "plt.tight_layout()\n",
        "plt.show()"
      ],
      "metadata": {
        "colab": {
          "base_uri": "https://localhost:8080/",
          "height": 601
        },
        "id": "EH9h34jAPULR",
        "outputId": "89fd7435-66a0-430f-9650-e865ad2d1895"
      },
      "execution_count": 27,
      "outputs": [
        {
          "output_type": "display_data",
          "data": {
            "text/plain": [
              "<Figure size 800x600 with 1 Axes>"
            ],
            "image/png": "[encoded data removed]"
          },
          "metadata": {}
        }
      ]
    },
    {
      "cell_type": "code",
      "source": [
        "# 스태프 수와 상영시간의 상관계수\n",
        "\n",
        "tmp = df_use[['num_staff', 'time']].dropna()\n",
        "correlation_coefficient = np.corrcoef(tmp['num_staff'].values, tmp['time'].values)[0, 1]\n",
        "\n",
        "print(f'num_staff와 time 간의 상관계수: {correlation_coefficient}')"
      ],
      "metadata": {
        "colab": {
          "base_uri": "https://localhost:8080/"
        },
        "id": "9gvxCPCoR9EB",
        "outputId": "21d20c1f-1f22-42ba-e617-6185d4412a8d"
      },
      "execution_count": 28,
      "outputs": [
        {
          "output_type": "stream",
          "name": "stdout",
          "text": [
            "num_staff와 time 간의 상관계수: 0.6232051619606054\n"
          ]
        }
      ]
    }
  ]
}